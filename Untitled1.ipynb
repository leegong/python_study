{
  "nbformat": 4,
  "nbformat_minor": 0,
  "metadata": {
    "colab": {
      "name": "Untitled1.ipynb",
      "provenance": [],
      "authorship_tag": "ABX9TyNP7T6Ae3jKy4mKKpbB6IPi",
      "include_colab_link": true
    },
    "kernelspec": {
      "name": "python3",
      "display_name": "Python 3"
    },
    "language_info": {
      "name": "python"
    }
  },
  "cells": [
    {
      "cell_type": "markdown",
      "metadata": {
        "id": "view-in-github",
        "colab_type": "text"
      },
      "source": [
        "<a href=\"https://colab.research.google.com/github/leegong/python_study/blob/master/Untitled1.ipynb\" target=\"_parent\"><img src=\"https://colab.research.google.com/assets/colab-badge.svg\" alt=\"Open In Colab\"/></a>"
      ]
    },
    {
      "cell_type": "code",
      "metadata": {
        "colab": {
          "base_uri": "https://localhost:8080/",
          "height": 413
        },
        "id": "FLSnrKoBUmgR",
        "outputId": "5c89c6e7-8e6b-46b2-fa56-19a4c5b04ca9"
      },
      "source": [
        "import feedparser\n",
        "\n",
        "\n",
        "d = feedparser.parse('http://createfeed.fivefilters.org/extract.php?url=https%3A%2F%2Fnews.sina.com.cn%2F&in_id_or_class=linkNewsTopBold&max=5&order=document&guid=0')\n",
        "print ()\n",
        "for post in d.entries:\n",
        "    print (post.title + \": \\n\" + post.link + \" \\n \")\n",
        "\n",
        "raw_input(\"Press Enter to continue...\")\n",
        "\n",
        "e = feedparser.parse('http://createfeed.fivefilters.org/extract.php?url=https%3A%2F%2Fnews.sina.com.cn%2F&in_id_or_class=list_14&max=5&order=document&guid=0')\n",
        "print ()\n",
        "for post in e.entries:\n",
        "    print (post.title + \": \\n\" + post.link + \" \\n \")\n",
        "\n",
        "raw_input(\"Press Enter to continue...\")\n",
        "\n",
        "f = feedparser.parse('http://createfeed.fivefilters.org/extract.php?url=https%3A%2F%2Fnews.sina.com.cn%2F&in_id_or_class=list_14&max=5&order=document&guid=0')\n",
        "print ()\n",
        "for post in f.entries:\n",
        "    print (post.title + \": \\n\" + post.link + \" \\n \")\n",
        "\n",
        "raw_input(\"Press Enter to continue...\")\n",
        "\n",
        "g = feedparser.parse('http://createfeed.fivefilters.org/extract.php?url=https%3A%2F%2Fnews.sina.com.cn%2F&in_id_or_class=dot+topli14&max=5&order=document&guid=0')\n",
        "print ()\n",
        "for post in g.entries:\n",
        "    print (post.title + \": \\n\" + post.link + \" \\n \")\n",
        "\n",
        "raw_input(\"Press Enter to continue...\")\n",
        "\n",
        "h = feedparser.parse('http://createfeed.fivefilters.org/extract.php?url=https%3A%2F%2Fnews.sina.com.cn%2F&in_id_or_class=list_14_noBg&max=5&order=document&guid=0')\n",
        "print ()\n",
        "for post in h.entries:\n",
        "    print (post.title + \": \\n\" + post.link + \" \\n \")\n",
        "\n",
        "raw_input(\"Press Enter to continue...\")\n",
        "\n",
        "i = feedparser.parse('http://createfeed.fivefilters.org/extract.php?url=https%3A%2F%2Fnews.sina.com.cn%2F&in_id_or_class=exclsv_hot_ls&max=5&order=document&guid=0')\n",
        "print ()\n",
        "for post in i.entries:\n",
        "    print (post.title + \": \\n\" + post.link + \" \\n \")\n",
        "\n",
        "raw_input(\"Press Enter to continue...\")\n",
        "\n",
        "j = feedparser.parse('http://createfeed.fivefilters.org/extract.php?url=https%3A%2F%2Fnews.sina.com.cn%2F&in_id_or_class=list_12+link_c666&max=5&order=document&guid=0')\n",
        "print ()\n",
        "for post in j.entries:\n",
        "    print (post.title + \": \\n\" + post.link + \" \\n \")"
      ],
      "execution_count": 5,
      "outputs": [
        {
          "output_type": "error",
          "ename": "ModuleNotFoundError",
          "evalue": "ignored",
          "traceback": [
            "\u001b[0;31m---------------------------------------------------------------------------\u001b[0m",
            "\u001b[0;31mModuleNotFoundError\u001b[0m                       Traceback (most recent call last)",
            "\u001b[0;32m<ipython-input-5-84fadcf94e29>\u001b[0m in \u001b[0;36m<module>\u001b[0;34m()\u001b[0m\n\u001b[0;32m----> 1\u001b[0;31m \u001b[0;32mimport\u001b[0m \u001b[0mfeedparser\u001b[0m\u001b[0;34m\u001b[0m\u001b[0;34m\u001b[0m\u001b[0m\n\u001b[0m\u001b[1;32m      2\u001b[0m \u001b[0;34m\u001b[0m\u001b[0m\n\u001b[1;32m      3\u001b[0m \u001b[0;34m\u001b[0m\u001b[0m\n\u001b[1;32m      4\u001b[0m \u001b[0md\u001b[0m \u001b[0;34m=\u001b[0m \u001b[0mfeedparser\u001b[0m\u001b[0;34m.\u001b[0m\u001b[0mparse\u001b[0m\u001b[0;34m(\u001b[0m\u001b[0;34m'http://createfeed.fivefilters.org/extract.php?url=https%3A%2F%2Fnews.sina.com.cn%2F&in_id_or_class=linkNewsTopBold&max=5&order=document&guid=0'\u001b[0m\u001b[0;34m)\u001b[0m\u001b[0;34m\u001b[0m\u001b[0;34m\u001b[0m\u001b[0m\n\u001b[1;32m      5\u001b[0m \u001b[0mprint\u001b[0m \u001b[0;34m(\u001b[0m\u001b[0;34m)\u001b[0m\u001b[0;34m\u001b[0m\u001b[0;34m\u001b[0m\u001b[0m\n",
            "\u001b[0;31mModuleNotFoundError\u001b[0m: No module named 'feedparser'",
            "",
            "\u001b[0;31m---------------------------------------------------------------------------\u001b[0;32m\nNOTE: If your import is failing due to a missing package, you can\nmanually install dependencies using either !pip or !apt.\n\nTo view examples of installing some common dependencies, click the\n\"Open Examples\" button below.\n\u001b[0;31m---------------------------------------------------------------------------\u001b[0m\n"
          ]
        }
      ]
    }
  ]
}